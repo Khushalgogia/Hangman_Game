{
 "cells": [
  {
   "cell_type": "code",
   "execution_count": 52,
   "id": "5000662c",
   "metadata": {},
   "outputs": [],
   "source": [
    "from sklearn.feature_extraction.text import CountVectorizer\n",
    "import re\n",
    "import numpy as np"
   ]
  },
  {
   "cell_type": "markdown",
   "id": "e710d978",
   "metadata": {},
   "source": [
    "# Original Hangman Game"
   ]
  },
  {
   "cell_type": "code",
   "execution_count": 7,
   "id": "ba4e049c",
   "metadata": {},
   "outputs": [
    {
     "name": "stdout",
     "output_type": "stream",
     "text": [
      "Welcome to Hangman!\n",
      "Word to guess: _ _ _ _ _ _ _ _ _\n",
      "Enter your guess: c\n",
      "c _ _ _ _ _ _ _ _\n",
      "Lives left: 6\n",
      "Enter your guess: h\n",
      "c h _ _ _ _ _ _ _\n",
      "Lives left: 6\n",
      "Enter your guess: a\n",
      "c h a _ _ _ _ _ _\n",
      "Lives left: 6\n",
      "Enter your guess: e\n",
      "c h a _ _ e _ _ e\n",
      "Lives left: 6\n",
      "Enter your guess: l\n",
      "c h a l l e _ _ e\n",
      "Lives left: 6\n",
      "Enter your guess: n\n",
      "c h a l l e n _ e\n",
      "Lives left: 6\n",
      "Enter your guess: g\n",
      "Congratulations! You guessed the word: challenge\n",
      "Game over.\n"
     ]
    }
   ],
   "source": [
    "import random\n",
    "\n",
    "class HangmanGame:\n",
    "    def __init__(self, word_list):\n",
    "        self.word_list = word_list\n",
    "        self.target_word = \"\"\n",
    "        self.guesses_left = 6\n",
    "        self.guessed_letters = set()\n",
    "        self.word_in_progress = []\n",
    "\n",
    "    def choose_word(self):\n",
    "        self.target_word = random.choice(self.word_list)\n",
    "        self.word_in_progress = [\"_\"] * len(self.target_word)\n",
    "\n",
    "    def display_word(self):\n",
    "        return \" \".join(self.word_in_progress)\n",
    "\n",
    "    def make_guess(self, letter):\n",
    "        if letter in self.guessed_letters:\n",
    "            return \"You already guessed that letter!\"\n",
    "\n",
    "        self.guessed_letters.add(letter)\n",
    "\n",
    "        if letter in self.target_word:\n",
    "            for i in range(len(self.target_word)):\n",
    "                if self.target_word[i] == letter:\n",
    "                    self.word_in_progress[i] = letter\n",
    "            if \"_\" not in self.word_in_progress:\n",
    "                return \"Congratulations! You guessed the word: {}\".format(self.target_word)\n",
    "        else:\n",
    "            self.guesses_left -= 1\n",
    "            if self.guesses_left == 0:\n",
    "                return \"Sorry, you ran out of guesses. The word was: {}\".format(self.target_word)\n",
    "\n",
    "        return self.display_word() + f\"\\nLives left: {self.guesses_left}\"\n",
    "\n",
    "# Example usage:\n",
    "word_list = [\"python\", \"hangman\", \"coding\", \"challenge\", \"game\"]\n",
    "\n",
    "custom_hangman = HangmanGame(word_list)\n",
    "custom_hangman.choose_word()\n",
    "\n",
    "print(\"Welcome to Hangman!\")\n",
    "print(\"Word to guess:\", custom_hangman.display_word())\n",
    "\n",
    "while custom_hangman.guesses_left > 0 and \"_\" in custom_hangman.word_in_progress:\n",
    "    guess = input(\"Enter your guess: \").lower()\n",
    "    result = custom_hangman.make_guess(guess)\n",
    "    print(result)\n",
    "\n",
    "print(\"Game over.\")\n"
   ]
  },
  {
   "cell_type": "code",
   "execution_count": null,
   "id": "8d1343be",
   "metadata": {},
   "outputs": [],
   "source": []
  },
  {
   "cell_type": "code",
   "execution_count": null,
   "id": "c2df73c6",
   "metadata": {},
   "outputs": [],
   "source": []
  },
  {
   "cell_type": "markdown",
   "id": "3007eb41",
   "metadata": {},
   "source": [
    "## Altering"
   ]
  },
  {
   "cell_type": "code",
   "execution_count": 51,
   "id": "a1df421c",
   "metadata": {},
   "outputs": [
    {
     "name": "stdout",
     "output_type": "stream",
     "text": [
      "Welcome to Hangman!\n",
      "Word to guess: _ _ _ _ _ _\n",
      "_ _ _ _ _ _\n",
      "Lives left: 5\n",
      "_ _ _ _ _ _\n",
      "Lives left: 4\n",
      "_ _ _ _ _ _\n",
      "Lives left: 3\n",
      "_ _ _ i _ _\n",
      "Lives left: 3\n"
     ]
    },
    {
     "ename": "TypeError",
     "evalue": "'in <string>' requires string as left operand, not NoneType",
     "output_type": "error",
     "traceback": [
      "\u001b[1;31m---------------------------------------------------------------------------\u001b[0m",
      "\u001b[1;31mTypeError\u001b[0m                                 Traceback (most recent call last)",
      "Cell \u001b[1;32mIn[51], line 79\u001b[0m\n\u001b[0;32m     76\u001b[0m \u001b[38;5;28;01mwhile\u001b[39;00m custom_hangman\u001b[38;5;241m.\u001b[39mguesses_left \u001b[38;5;241m>\u001b[39m \u001b[38;5;241m0\u001b[39m \u001b[38;5;129;01mand\u001b[39;00m \u001b[38;5;124m\"\u001b[39m\u001b[38;5;124m_\u001b[39m\u001b[38;5;124m\"\u001b[39m \u001b[38;5;129;01min\u001b[39;00m custom_hangman\u001b[38;5;241m.\u001b[39mword_in_progress:\n\u001b[0;32m     77\u001b[0m     \u001b[38;5;66;03m#guess = input(\"Enter your guess: \").lower()\u001b[39;00m\n\u001b[0;32m     78\u001b[0m     guess \u001b[38;5;241m=\u001b[39m custom_hangman\u001b[38;5;241m.\u001b[39mguess_here()\n\u001b[1;32m---> 79\u001b[0m     result \u001b[38;5;241m=\u001b[39m custom_hangman\u001b[38;5;241m.\u001b[39mmake_guess(guess)\n\u001b[0;32m     80\u001b[0m     \u001b[38;5;28mprint\u001b[39m(result)\n\u001b[0;32m     82\u001b[0m \u001b[38;5;28mprint\u001b[39m(\u001b[38;5;124m\"\u001b[39m\u001b[38;5;124mGame over.\u001b[39m\u001b[38;5;124m\"\u001b[39m)\n",
      "Cell \u001b[1;32mIn[51], line 54\u001b[0m, in \u001b[0;36mHangmanGame.make_guess\u001b[1;34m(self, letter)\u001b[0m\n\u001b[0;32m     50\u001b[0m     \u001b[38;5;28;01mreturn\u001b[39;00m \u001b[38;5;124m\"\u001b[39m\u001b[38;5;124mYou already guessed that letter!\u001b[39m\u001b[38;5;124m\"\u001b[39m\n\u001b[0;32m     52\u001b[0m \u001b[38;5;28mself\u001b[39m\u001b[38;5;241m.\u001b[39mguessed_letters\u001b[38;5;241m.\u001b[39madd(letter)\n\u001b[1;32m---> 54\u001b[0m \u001b[38;5;28;01mif\u001b[39;00m letter \u001b[38;5;129;01min\u001b[39;00m \u001b[38;5;28mself\u001b[39m\u001b[38;5;241m.\u001b[39mtarget_word:\n\u001b[0;32m     55\u001b[0m     \u001b[38;5;28;01mfor\u001b[39;00m i \u001b[38;5;129;01min\u001b[39;00m \u001b[38;5;28mrange\u001b[39m(\u001b[38;5;28mlen\u001b[39m(\u001b[38;5;28mself\u001b[39m\u001b[38;5;241m.\u001b[39mtarget_word)):\n\u001b[0;32m     56\u001b[0m         \u001b[38;5;28;01mif\u001b[39;00m \u001b[38;5;28mself\u001b[39m\u001b[38;5;241m.\u001b[39mtarget_word[i] \u001b[38;5;241m==\u001b[39m letter:\n",
      "\u001b[1;31mTypeError\u001b[0m: 'in <string>' requires string as left operand, not NoneType"
     ]
    }
   ],
   "source": [
    "import random\n",
    "\n",
    "class HangmanGame:\n",
    "    def __init__(self, word_list):\n",
    "        self.word_list = word_list\n",
    "        self.target_word = \"\"\n",
    "        self.guesses_left = 6\n",
    "        self.guessed_letters = set()\n",
    "        self.word_in_progress = []\n",
    "        self.common_letters = ''\n",
    "\n",
    "    def choose_word(self):\n",
    "        self.target_word = random.choice(self.word_list)\n",
    "        self.word_in_progress = [\"_\"] * len(self.target_word)\n",
    "\n",
    "    def display_word(self):\n",
    "        return \" \".join(self.word_in_progress)\n",
    "    \n",
    "    \n",
    "    def guess_here(self):\n",
    "        \n",
    "        #Guessing the first word using random guess, based on MOST COMMON LETTERS\n",
    "        random_guess_char = \"eariotns\"\n",
    "        \"\"\"\n",
    "        Most Common Letters in percentage\n",
    "        E – 11.1607%\n",
    "        A – 8.4966%\n",
    "        R – 7.5809%\n",
    "        I – 7.5448%\n",
    "        O – 7.1635%\n",
    "        T – 6.9509%\n",
    "        N – 6.6544%\n",
    "        S – 5.7351%\n",
    "        \n",
    "        \"\"\"\n",
    "        if len(re.findall(r\"[a-zA-Z]+\",\"\".join(self.word_in_progress)))== 0:\n",
    "            for char in range(len(random_guess_char)):\n",
    "                if random_guess_char[char] in self.common_letters:\n",
    "                    continue\n",
    "                else:\n",
    "                    self.common_letters += random_guess_char[char]\n",
    "                    return random_guess_char[char]\n",
    "\n",
    "        #first take the incomplete word from word_in_progress\n",
    "        incomplete_word = \"\".join(self.word_in_progress)\n",
    "        #Find all the same length words from the final_list to predict the next letter\n",
    "        words_with_same_length = [words for words in self.word_list if len(char) == len(self.word_in_progress)]\n",
    "        \n",
    "        # Convert them into vectors using CountVectorizer\n",
    "        vectorizer = CountVectorizer(analyzer = 'char')\n",
    "        incomplete_word_vector = vectorizer.transform(incomplete_word)\n",
    "        words_with_same_length_vector = vectorizer.fit_transform(words_with_same_length)\n",
    "        similarities = cosine_similarity(words_with_same_length_vector, incomplete_word_vector)\n",
    "        \n",
    "        \n",
    "\n",
    "    def make_guess(self, letter):\n",
    "        if letter in self.guessed_letters:\n",
    "            return \"You already guessed that letter!\"\n",
    "\n",
    "        self.guessed_letters.add(letter)\n",
    "\n",
    "        if letter in self.target_word:\n",
    "            for i in range(len(self.target_word)):\n",
    "                if self.target_word[i] == letter:\n",
    "                    self.word_in_progress[i] = letter\n",
    "            if \"_\" not in self.word_in_progress:\n",
    "                return \"Congratulations! You guessed the word: {}\".format(self.target_word)\n",
    "        else:\n",
    "            self.guesses_left -= 1\n",
    "            if self.guesses_left == 0:\n",
    "                return \"Sorry, you ran out of guesses. The word was: {}\".format(self.target_word)\n",
    "\n",
    "        return self.display_word() + f\"\\nLives left: {self.guesses_left}\"\n",
    "\n",
    "# Example usage:\n",
    "word_list = [\"python\", \"hangman\", \"coding\", \"challenge\", \"game\"]\n",
    "#word_list = ['aion']\n",
    "custom_hangman = HangmanGame(word_list)\n",
    "custom_hangman.choose_word()\n",
    "\n",
    "print(\"Welcome to Hangman!\")\n",
    "print(\"Word to guess:\", custom_hangman.display_word())\n",
    "\n",
    "while custom_hangman.guesses_left > 0 and \"_\" in custom_hangman.word_in_progress:\n",
    "    #guess = input(\"Enter your guess: \").lower()\n",
    "    guess = custom_hangman.guess_here()\n",
    "    result = custom_hangman.make_guess(guess)\n",
    "    print(result)\n",
    "\n",
    "print(\"Game over.\")\n"
   ]
  },
  {
   "cell_type": "code",
   "execution_count": 5,
   "id": "e8137903",
   "metadata": {},
   "outputs": [
    {
     "data": {
      "text/plain": [
       "'absj'"
      ]
     },
     "execution_count": 5,
     "metadata": {},
     "output_type": "execute_result"
    }
   ],
   "source": []
  },
  {
   "cell_type": "code",
   "execution_count": 41,
   "id": "5f1f00b2",
   "metadata": {},
   "outputs": [
    {
     "data": {
      "text/plain": [
       "['_', '_', '_', '_', '_', '_']"
      ]
     },
     "execution_count": 41,
     "metadata": {},
     "output_type": "execute_result"
    }
   ],
   "source": [
    "word = 'hangmn'\n",
    "word_in_progress = [\"_\"] * 6\n",
    "word_in_progress"
   ]
  },
  {
   "cell_type": "code",
   "execution_count": null,
   "id": "74a7d40c",
   "metadata": {},
   "outputs": [],
   "source": [
    "word_in_progress = [\"_\"] * 6\n",
    "incomplete_word = \"\".join(word_in_progress)\n",
    "#Find all the same length words from the final_list to predict the next letter\n",
    "words_with_same_length = [words for words in self.word_list if len(char) == len(self.word_in_progress)]\n",
    "\n",
    "# Convert them into vectors using CountVectorizer\n",
    "vectorizer = CountVectorizer(analyzer = 'char')\n",
    "incomplete_word_vector = vectorizer.transform(incomplete_word)\n",
    "words_with_same_length_vector = vectorizer.fit_transform(words_with_same_length)\n",
    "similarities = cosine_similarity(words_with_same_length_vector, incomplete_word_vector)"
   ]
  },
  {
   "cell_type": "code",
   "execution_count": null,
   "id": "96edc080",
   "metadata": {},
   "outputs": [],
   "source": []
  },
  {
   "cell_type": "code",
   "execution_count": null,
   "id": "febadf20",
   "metadata": {},
   "outputs": [],
   "source": []
  },
  {
   "cell_type": "code",
   "execution_count": null,
   "id": "578bb2ec",
   "metadata": {},
   "outputs": [],
   "source": []
  },
  {
   "cell_type": "code",
   "execution_count": null,
   "id": "70d7fec8",
   "metadata": {},
   "outputs": [],
   "source": []
  },
  {
   "cell_type": "code",
   "execution_count": null,
   "id": "5e29898a",
   "metadata": {},
   "outputs": [],
   "source": []
  },
  {
   "cell_type": "code",
   "execution_count": null,
   "id": "ad000b47",
   "metadata": {},
   "outputs": [],
   "source": []
  },
  {
   "cell_type": "code",
   "execution_count": null,
   "id": "a71abad4",
   "metadata": {},
   "outputs": [],
   "source": []
  },
  {
   "cell_type": "code",
   "execution_count": null,
   "id": "00d2649e",
   "metadata": {},
   "outputs": [],
   "source": []
  },
  {
   "cell_type": "code",
   "execution_count": null,
   "id": "b029bf5d",
   "metadata": {},
   "outputs": [],
   "source": []
  }
 ],
 "metadata": {
  "kernelspec": {
   "display_name": "Python 3 (ipykernel)",
   "language": "python",
   "name": "python3"
  },
  "language_info": {
   "codemirror_mode": {
    "name": "ipython",
    "version": 3
   },
   "file_extension": ".py",
   "mimetype": "text/x-python",
   "name": "python",
   "nbconvert_exporter": "python",
   "pygments_lexer": "ipython3",
   "version": "3.11.5"
  }
 },
 "nbformat": 4,
 "nbformat_minor": 5
}
