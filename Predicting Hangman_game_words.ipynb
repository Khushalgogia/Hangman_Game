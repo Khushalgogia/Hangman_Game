{
 "cells": [
  {
   "cell_type": "code",
   "execution_count": 182,
   "id": "5000662c",
   "metadata": {},
   "outputs": [],
   "source": [
    "from sklearn.feature_extraction.text import CountVectorizer\n",
    "import re\n",
    "import numpy as np\n",
    "from sklearn.metrics.pairwise import cosine_similarity"
   ]
  },
  {
   "cell_type": "markdown",
   "id": "8c1e565b",
   "metadata": {},
   "source": [
    "# Importing Word_List"
   ]
  },
  {
   "cell_type": "code",
   "execution_count": 184,
   "id": "d1387789",
   "metadata": {},
   "outputs": [
    {
     "name": "stdout",
     "output_type": "stream",
     "text": [
      "Number of words in the game: 227300\n"
     ]
    }
   ],
   "source": [
    "l1 = []\n",
    "with open(r\"C:\\Users\\khush\\Python, 12-7\\words_250000_train.txt\",\"r\") as file:\n",
    "    words = file.read().splitlines()\n",
    "    l1.append(words)\n",
    "    file.close()\n",
    "all_words = l1[0]\n",
    "print(f\"Number of words in the game: {len(all_words)}\")"
   ]
  },
  {
   "cell_type": "markdown",
   "id": "e710d978",
   "metadata": {},
   "source": [
    "# Original Hangman Game"
   ]
  },
  {
   "cell_type": "code",
   "execution_count": 7,
   "id": "ba4e049c",
   "metadata": {},
   "outputs": [
    {
     "name": "stdout",
     "output_type": "stream",
     "text": [
      "Welcome to Hangman!\n",
      "Word to guess: _ _ _ _ _ _ _ _ _\n",
      "Enter your guess: c\n",
      "c _ _ _ _ _ _ _ _\n",
      "Lives left: 6\n",
      "Enter your guess: h\n",
      "c h _ _ _ _ _ _ _\n",
      "Lives left: 6\n",
      "Enter your guess: a\n",
      "c h a _ _ _ _ _ _\n",
      "Lives left: 6\n",
      "Enter your guess: e\n",
      "c h a _ _ e _ _ e\n",
      "Lives left: 6\n",
      "Enter your guess: l\n",
      "c h a l l e _ _ e\n",
      "Lives left: 6\n",
      "Enter your guess: n\n",
      "c h a l l e n _ e\n",
      "Lives left: 6\n",
      "Enter your guess: g\n",
      "Congratulations! You guessed the word: challenge\n",
      "Game over.\n"
     ]
    }
   ],
   "source": [
    "import random\n",
    "\n",
    "class HangmanGame:\n",
    "    def __init__(self, word_list):\n",
    "        self.word_list = word_list\n",
    "        self.target_word = \"\"\n",
    "        self.guesses_left = 6\n",
    "        self.guessed_letters = set()\n",
    "        self.word_in_progress = []\n",
    "\n",
    "    def choose_word(self):\n",
    "        self.target_word = random.choice(self.word_list)\n",
    "        self.word_in_progress = [\"_\"] * len(self.target_word)\n",
    "\n",
    "    def display_word(self):\n",
    "        return \" \".join(self.word_in_progress)\n",
    "\n",
    "    def make_guess(self, letter):\n",
    "        if letter in self.guessed_letters:\n",
    "            return \"You already guessed that letter!\"\n",
    "\n",
    "        self.guessed_letters.add(letter)\n",
    "\n",
    "        if letter in self.target_word:\n",
    "            for i in range(len(self.target_word)):\n",
    "                if self.target_word[i] == letter:\n",
    "                    self.word_in_progress[i] = letter\n",
    "            if \"_\" not in self.word_in_progress:\n",
    "                return \"Congratulations! You guessed the word: {}\".format(self.target_word)\n",
    "        else:\n",
    "            self.guesses_left -= 1\n",
    "            if self.guesses_left == 0:\n",
    "                return \"Sorry, you ran out of guesses. The word was: {}\".format(self.target_word)\n",
    "\n",
    "        return self.display_word() + f\"\\nLives left: {self.guesses_left}\"\n",
    "\n",
    "# Example usage:\n",
    "word_list = all_words\n",
    "\n",
    "custom_hangman = HangmanGame(word_list)\n",
    "custom_hangman.choose_word()\n",
    "\n",
    "print(\"Welcome to Hangman!\")\n",
    "print(\"Word to guess:\", custom_hangman.display_word())\n",
    "\n",
    "while custom_hangman.guesses_left > 0 and \"_\" in custom_hangman.word_in_progress:\n",
    "    guess = input(\"Enter your guess: \").lower()\n",
    "    result = custom_hangman.make_guess(guess)\n",
    "    print(result)\n",
    "\n",
    "print(\"Game over.\")\n"
   ]
  },
  {
   "cell_type": "code",
   "execution_count": null,
   "id": "8d1343be",
   "metadata": {},
   "outputs": [],
   "source": []
  },
  {
   "cell_type": "code",
   "execution_count": null,
   "id": "c2df73c6",
   "metadata": {},
   "outputs": [],
   "source": []
  },
  {
   "cell_type": "code",
   "execution_count": null,
   "id": "4384d646",
   "metadata": {},
   "outputs": [],
   "source": []
  },
  {
   "cell_type": "markdown",
   "id": "68118b4f",
   "metadata": {},
   "source": [
    "## Model - 1 -- cosine similarity"
   ]
  },
  {
   "cell_type": "code",
   "execution_count": 195,
   "id": "f609f433",
   "metadata": {},
   "outputs": [
    {
     "name": "stdout",
     "output_type": "stream",
     "text": [
      "Welcome to Hangman!\n",
      "Word to guess: _ _ _ _ _ _ _ _\n",
      "_ e _ e _ _ _ _\n",
      "Lives left: 10\n",
      "_ e _ e _ _ _ _\n",
      "Lives left: 9\n",
      "_ e _ e _ _ _ _\n",
      "Lives left: 8\n",
      "l e _ e _ _ _ _\n",
      "Lives left: 8\n",
      "l e _ e _ _ _ _\n",
      "Lives left: 7\n",
      "l e _ e _ _ _ _\n",
      "Lives left: 6\n",
      "l e _ e _ _ _ _\n",
      "Lives left: 5\n",
      "l e _ e _ _ _ _\n",
      "Lives left: 4\n",
      "l e _ e _ _ _ c\n",
      "Lives left: 4\n",
      "l e _ e _ _ _ c\n",
      "Lives left: 3\n",
      "l e _ e _ _ _ c\n",
      "Lives left: 2\n",
      "l e _ e _ d _ c\n",
      "Lives left: 2\n",
      "l e _ e _ d _ c\n",
      "Lives left: 1\n",
      "Sorry, you ran out of guesses. The word was: legendic\n",
      "Game over.\n"
     ]
    }
   ],
   "source": [
    "import random\n",
    "\n",
    "class HangmanGame:\n",
    "    def __init__(self, word_list):\n",
    "        self.word_list = word_list\n",
    "        self.target_word = \"\"\n",
    "        self.guesses_left = 10\n",
    "        self.guessed_letters = set()\n",
    "        self.word_in_progress = []\n",
    "        self.common_letters = ''\n",
    "        \n",
    "\n",
    "    def choose_word(self):\n",
    "        self.target_word = random.choice(self.word_list)\n",
    "        self.word_in_progress = [\"_\"] * len(self.target_word)\n",
    "\n",
    "    def display_word(self):\n",
    "        return \" \".join(self.word_in_progress)\n",
    "    \n",
    "    \n",
    "    def guess_here(self):\n",
    "        \n",
    "        #Guessing the first word using random guess, based on MOST COMMON LETTERS\n",
    "        random_guess_char = \"eariotns\"\n",
    "        \"\"\"\n",
    "        Most Common Letters in percentage\n",
    "        E – 11.1607%\n",
    "        A – 8.4966%\n",
    "        R – 7.5809%\n",
    "        I – 7.5448%\n",
    "        O – 7.1635%\n",
    "        T – 6.9509%\n",
    "        N – 6.6544%\n",
    "        S – 5.7351%\n",
    "        \n",
    "        \"\"\"\n",
    "        if len(re.findall(r\"[a-zA-Z]+\",\"\".join(self.word_in_progress)))== 0:\n",
    "            for char in range(len(random_guess_char)):\n",
    "                if random_guess_char[char] in self.common_letters:\n",
    "                    continue\n",
    "                else:\n",
    "                    self.common_letters += random_guess_char[char]\n",
    "                    left_guesses = self.guesses_left\n",
    "                    return random_guess_char[char]\n",
    "        \n",
    "        #predicted_char = len(re.findall(r\"[a-zA-Z]+\",\"\".join(self.word_in_progress)))\n",
    "\n",
    "        #first take the incomplete word from word_in_progress\n",
    "        incomplete_word = \"\".join(self.word_in_progress)\n",
    "        #Find all the same length words from the final_list to predict the next letter\n",
    "        words_with_same_length = [char for char in self.word_list if len(char) == len(self.word_in_progress)]\n",
    "        \n",
    "        # Convert them into vectors using CountVectorizer\n",
    "        vectorizer = CountVectorizer(analyzer = 'char')\n",
    "        \n",
    "        words_with_same_length_vector = vectorizer.fit_transform(words_with_same_length)\n",
    "        \n",
    "        incomplete_word_vector = vectorizer.transform([incomplete_word])\n",
    "        similarities = cosine_similarity(words_with_same_length_vector, incomplete_word_vector)\n",
    "        \n",
    "        similar_dic = {}\n",
    "        for i,j in enumerate(similarities.tolist()):\n",
    "            similar_dic[i] = j[0]\n",
    "\n",
    "        sorted_list = sorted(similar_dic.items(),key = lambda x:x[1],reverse = True)\n",
    "\n",
    "        similar_values = [words_with_same_length[sorted_list[i][0]] for i in range(len(sorted_list))]\n",
    "        \n",
    "        def count_sorted_list(word):\n",
    "            new_dic = {}\n",
    "            for i in word:\n",
    "                if i not in new_dic:\n",
    "                    new_dic[i] = 1\n",
    "                else:\n",
    "                    new_dic[i] +=1\n",
    "            new_list = list(dict((sorted(new_dic.items(),reverse = True,key = lambda x:x[1]))).keys())\n",
    "            return new_list\n",
    "        \n",
    "        previous_guesses_left = self.guesses_left\n",
    "\n",
    "        while True:\n",
    "            current_guesses_left = self.guesses_left  # Record current value\n",
    "            # logic to check guessed letters and return i for each similar_value\n",
    "            for similar_word in similar_values:\n",
    "                for i in count_sorted_list(similar_word):\n",
    "                    if i not in self.guessed_letters:\n",
    "                        \n",
    "                        if current_guesses_left != previous_guesses_left:\n",
    "                            \n",
    "                            break  # Break the loop if guesses_left changes\n",
    "                        return i\n",
    "                if current_guesses_left == previous_guesses_left:\n",
    "                    previous_guesses_left = current_guesses_left  # Update previous value\n",
    "                else:\n",
    "                    break  # Break if guesses_left changes\n",
    "\n",
    "\n",
    "        \n",
    "        \n",
    "        \n",
    "\n",
    "    def make_guess(self, letter):\n",
    "        if letter in self.guessed_letters:\n",
    "            return \"You already guessed that letter!\"\n",
    "\n",
    "        self.guessed_letters.add(letter)\n",
    "\n",
    "        if letter in self.target_word:\n",
    "            for i in range(len(self.target_word)):\n",
    "                if self.target_word[i] == letter:\n",
    "                    self.word_in_progress[i] = letter\n",
    "            if \"_\" not in self.word_in_progress:\n",
    "                return \"Congratulations! You guessed the word: {}\".format(self.target_word)\n",
    "        else:\n",
    "            self.guesses_left -= 1\n",
    "            if self.guesses_left == 0:\n",
    "                return \"Sorry, you ran out of guesses. The word was: {}\".format(self.target_word)\n",
    "\n",
    "        return self.display_word() + f\"\\nLives left: {self.guesses_left}\"\n",
    "\n",
    "# Example usage:\n",
    "word_list = all_words\n",
    "#word_list = ['aion']\n",
    "custom_hangman = HangmanGame(word_list)\n",
    "custom_hangman.choose_word()\n",
    "\n",
    "print(\"Welcome to Hangman!\")\n",
    "print(\"Word to guess:\", custom_hangman.display_word())\n",
    "\n",
    "while custom_hangman.guesses_left > 0 and \"_\" in custom_hangman.word_in_progress:\n",
    "    #guess = input(\"Enter your guess: \").lower()\n",
    "    guess = custom_hangman.guess_here()\n",
    "    result = custom_hangman.make_guess(guess)\n",
    "    print(result)\n",
    "\n",
    "print(\"Game over.\")\n"
   ]
  },
  {
   "cell_type": "code",
   "execution_count": null,
   "id": "3168c093",
   "metadata": {},
   "outputs": [],
   "source": []
  },
  {
   "cell_type": "code",
   "execution_count": null,
   "id": "3252b273",
   "metadata": {},
   "outputs": [],
   "source": []
  },
  {
   "cell_type": "code",
   "execution_count": null,
   "id": "abe442ed",
   "metadata": {},
   "outputs": [],
   "source": []
  },
  {
   "cell_type": "code",
   "execution_count": null,
   "id": "125fbefa",
   "metadata": {},
   "outputs": [],
   "source": []
  },
  {
   "cell_type": "code",
   "execution_count": null,
   "id": "f34e34af",
   "metadata": {},
   "outputs": [],
   "source": []
  },
  {
   "cell_type": "code",
   "execution_count": 183,
   "id": "e6df65a9",
   "metadata": {},
   "outputs": [
    {
     "name": "stdout",
     "output_type": "stream",
     "text": [
      "Number of words in the game: 227300\n"
     ]
    }
   ],
   "source": []
  },
  {
   "cell_type": "code",
   "execution_count": 170,
   "id": "acaf1be8",
   "metadata": {},
   "outputs": [],
   "source": [
    "all_words = l1[0]"
   ]
  },
  {
   "cell_type": "code",
   "execution_count": 169,
   "id": "ac963457",
   "metadata": {},
   "outputs": [
    {
     "data": {
      "text/plain": [
       "227300"
      ]
     },
     "execution_count": 169,
     "metadata": {},
     "output_type": "execute_result"
    }
   ],
   "source": [
    "len(l1[0])"
   ]
  },
  {
   "cell_type": "code",
   "execution_count": null,
   "id": "4d7d7a6d",
   "metadata": {},
   "outputs": [],
   "source": []
  },
  {
   "cell_type": "code",
   "execution_count": null,
   "id": "85cb2fac",
   "metadata": {},
   "outputs": [],
   "source": []
  },
  {
   "cell_type": "code",
   "execution_count": null,
   "id": "47f40ca6",
   "metadata": {},
   "outputs": [],
   "source": []
  },
  {
   "cell_type": "code",
   "execution_count": null,
   "id": "8c7e979a",
   "metadata": {},
   "outputs": [],
   "source": []
  },
  {
   "cell_type": "code",
   "execution_count": null,
   "id": "2ba39d9d",
   "metadata": {},
   "outputs": [],
   "source": []
  },
  {
   "cell_type": "code",
   "execution_count": null,
   "id": "c5ed7031",
   "metadata": {},
   "outputs": [],
   "source": []
  },
  {
   "cell_type": "code",
   "execution_count": null,
   "id": "196ff06a",
   "metadata": {},
   "outputs": [],
   "source": []
  },
  {
   "cell_type": "code",
   "execution_count": null,
   "id": "5d2119dc",
   "metadata": {},
   "outputs": [],
   "source": []
  },
  {
   "cell_type": "code",
   "execution_count": null,
   "id": "e2e0d35f",
   "metadata": {},
   "outputs": [],
   "source": []
  },
  {
   "cell_type": "code",
   "execution_count": null,
   "id": "eb5ffaa2",
   "metadata": {},
   "outputs": [],
   "source": []
  },
  {
   "cell_type": "code",
   "execution_count": 130,
   "id": "e8137903",
   "metadata": {},
   "outputs": [
    {
     "data": {
      "text/plain": [
       "['a', 'n', 'h', 'g', 'm']"
      ]
     },
     "execution_count": 130,
     "metadata": {},
     "output_type": "execute_result"
    }
   ],
   "source": [
    "def count_sorted_list(word):\n",
    "    new_dic = {}\n",
    "    for i in word:\n",
    "        if i not in new_dic:\n",
    "            new_dic[i] = 1\n",
    "        else:\n",
    "            new_dic[i] +=1\n",
    "    new_dic = list(dict((sorted(new_dic.items(),reverse = True,key = lambda x:x[1]))).keys())\n",
    "    return new_dic\n",
    "\n",
    "d1 = count_sorted_list(\"hangman\")\n",
    "\n",
    "d1      "
   ]
  },
  {
   "cell_type": "code",
   "execution_count": 116,
   "id": "f93b3edb",
   "metadata": {},
   "outputs": [
    {
     "ename": "KeyError",
     "evalue": "1",
     "output_type": "error",
     "traceback": [
      "\u001b[1;31m---------------------------------------------------------------------------\u001b[0m",
      "\u001b[1;31mKeyError\u001b[0m                                  Traceback (most recent call last)",
      "Cell \u001b[1;32mIn[116], line 1\u001b[0m\n\u001b[1;32m----> 1\u001b[0m d1[\u001b[38;5;241m1\u001b[39m]\n",
      "\u001b[1;31mKeyError\u001b[0m: 1"
     ]
    }
   ],
   "source": [
    "d1[1]"
   ]
  },
  {
   "cell_type": "code",
   "execution_count": null,
   "id": "b19ab673",
   "metadata": {},
   "outputs": [],
   "source": []
  },
  {
   "cell_type": "code",
   "execution_count": null,
   "id": "63fed354",
   "metadata": {},
   "outputs": [],
   "source": []
  },
  {
   "cell_type": "code",
   "execution_count": 41,
   "id": "5f1f00b2",
   "metadata": {},
   "outputs": [
    {
     "data": {
      "text/plain": [
       "['_', '_', '_', '_', '_', '_']"
      ]
     },
     "execution_count": 41,
     "metadata": {},
     "output_type": "execute_result"
    }
   ],
   "source": [
    "word = 'hangmn'\n",
    "word_in_progress = [\"_\"] * 6\n",
    "word_in_progress"
   ]
  },
  {
   "cell_type": "code",
   "execution_count": 110,
   "id": "74a7d40c",
   "metadata": {},
   "outputs": [
    {
     "name": "stdout",
     "output_type": "stream",
     "text": [
      "['pythona', 'hangman', 'codinga', 'challea', 'gamedaa']\n"
     ]
    }
   ],
   "source": [
    "word_list = [\"pythona\", \"hangman\", \"codinga\", \"challea\", \"gamedaa\"]\n",
    "\n",
    "word_in_progress = [\"_\"] * 7\n",
    "word_in_progress[1] = \"y\"\n",
    "\n",
    "\n",
    "incomplete_word = \"\".join(word_in_progress)\n",
    "#Find all the same length words from the final_list to predict the next letter\n",
    "words_with_same_length = [char for char in word_list if len(char) == len(word_in_progress)]\n",
    "\n",
    "# Convert them into vectors using CountVectorizer\n",
    "vectorizer = CountVectorizer(analyzer = 'char')\n",
    "words_with_same_length_vector = vectorizer.fit_transform(words_with_same_length)\n",
    "incomplete_word_vector = vectorizer.transform([incomplete_word])\n",
    "\n",
    "\n",
    "similarities = cosine_similarity(words_with_same_length_vector, incomplete_word_vector)\n",
    "\n",
    "similar_dic = {}\n",
    "for i,j in enumerate(similarities.tolist()):\n",
    "    similar_dic[i] = j[0]\n",
    "    \n",
    "sorted_list = sorted(similar_dic.items(),key = lambda x:x[1],reverse = True)\n",
    "\n",
    "similar_values = [words_with_same_length[sorted_list[i][0]] for i in range(len(sorted_list))]\n",
    "print(similar_values)"
   ]
  },
  {
   "cell_type": "code",
   "execution_count": 107,
   "id": "37ed0aec",
   "metadata": {},
   "outputs": [
    {
     "name": "stdout",
     "output_type": "stream",
     "text": [
      "challea\n",
      "hangman\n",
      "gamedaa\n",
      "pythona\n",
      "codinga\n"
     ]
    }
   ],
   "source": [
    "for i in range(len(sorted_list)):\n",
    "    print(words_with_same_length[sorted_list[i][0]])"
   ]
  },
  {
   "cell_type": "code",
   "execution_count": 108,
   "id": "0be6361d",
   "metadata": {},
   "outputs": [
    {
     "data": {
      "text/plain": [
       "['challea', 'hangman', 'gamedaa', 'pythona', 'codinga']"
      ]
     },
     "execution_count": 108,
     "metadata": {},
     "output_type": "execute_result"
    }
   ],
   "source": [
    "[words_with_same_length[sorted_list[i][0]] for i in range(len(sorted_list))]"
   ]
  },
  {
   "cell_type": "code",
   "execution_count": null,
   "id": "4e9aab4a",
   "metadata": {},
   "outputs": [],
   "source": []
  },
  {
   "cell_type": "code",
   "execution_count": 101,
   "id": "96edc080",
   "metadata": {},
   "outputs": [
    {
     "data": {
      "text/plain": [
       "['pythona', 'hangman', 'codinga', 'challea', 'gamedaa']"
      ]
     },
     "execution_count": 101,
     "metadata": {},
     "output_type": "execute_result"
    }
   ],
   "source": [
    "words_with_same_length"
   ]
  },
  {
   "cell_type": "code",
   "execution_count": 96,
   "id": "5425bc3d",
   "metadata": {},
   "outputs": [
    {
     "data": {
      "text/plain": [
       "{0: 0.3779644730092272,\n",
       " 1: 0.30151134457776363,\n",
       " 2: 0.0,\n",
       " 3: 0.30151134457776363,\n",
       " 4: 0.0}"
      ]
     },
     "execution_count": 96,
     "metadata": {},
     "output_type": "execute_result"
    }
   ],
   "source": [
    "similar_dic"
   ]
  },
  {
   "cell_type": "code",
   "execution_count": 97,
   "id": "f6172122",
   "metadata": {},
   "outputs": [
    {
     "data": {
      "text/plain": [
       "['pythona', 'hangman', 'codinga', 'challea', 'gamedaa']"
      ]
     },
     "execution_count": 97,
     "metadata": {},
     "output_type": "execute_result"
    }
   ],
   "source": [
    "words_with_same_length"
   ]
  },
  {
   "cell_type": "code",
   "execution_count": 93,
   "id": "c3ae30f9",
   "metadata": {},
   "outputs": [
    {
     "data": {
      "text/plain": [
       "[(0, 0.30151134457776363), (1, 0.3333333333333333)]"
      ]
     },
     "execution_count": 93,
     "metadata": {},
     "output_type": "execute_result"
    }
   ],
   "source": [
    "sorted_list"
   ]
  },
  {
   "cell_type": "code",
   "execution_count": 99,
   "id": "1c975f3f",
   "metadata": {},
   "outputs": [
    {
     "data": {
      "text/plain": [
       "[(0, 0.3779644730092272),\n",
       " (1, 0.30151134457776363),\n",
       " (3, 0.30151134457776363),\n",
       " (2, 0.0),\n",
       " (4, 0.0)]"
      ]
     },
     "execution_count": 99,
     "metadata": {},
     "output_type": "execute_result"
    }
   ],
   "source": [
    "sorted_list"
   ]
  },
  {
   "cell_type": "code",
   "execution_count": null,
   "id": "cf5b6d74",
   "metadata": {},
   "outputs": [],
   "source": []
  },
  {
   "cell_type": "code",
   "execution_count": null,
   "id": "c8df2b78",
   "metadata": {},
   "outputs": [],
   "source": []
  },
  {
   "cell_type": "code",
   "execution_count": null,
   "id": "0077a305",
   "metadata": {},
   "outputs": [],
   "source": []
  },
  {
   "cell_type": "code",
   "execution_count": null,
   "id": "2466f019",
   "metadata": {},
   "outputs": [],
   "source": []
  },
  {
   "cell_type": "code",
   "execution_count": 49,
   "id": "febadf20",
   "metadata": {},
   "outputs": [
    {
     "data": {
      "text/plain": [
       "array([[0.28867513],\n",
       "       [0.57735027],\n",
       "       [0.1       ]])"
      ]
     },
     "execution_count": 49,
     "metadata": {},
     "output_type": "execute_result"
    }
   ],
   "source": [
    "similarities = np.vstack([similarities, np.array([0.1])])\n",
    "similarities"
   ]
  },
  {
   "cell_type": "code",
   "execution_count": null,
   "id": "bd5bc876",
   "metadata": {},
   "outputs": [],
   "source": []
  },
  {
   "cell_type": "code",
   "execution_count": null,
   "id": "38ddba74",
   "metadata": {},
   "outputs": [],
   "source": []
  },
  {
   "cell_type": "code",
   "execution_count": null,
   "id": "9aedb4f5",
   "metadata": {},
   "outputs": [],
   "source": []
  },
  {
   "cell_type": "code",
   "execution_count": 71,
   "id": "98f01918",
   "metadata": {},
   "outputs": [
    {
     "data": {
      "text/plain": [
       "{0: 0.2886751345948129, 1: 0.5773502691896258}"
      ]
     },
     "execution_count": 71,
     "metadata": {},
     "output_type": "execute_result"
    }
   ],
   "source": [
    "similar_dic = {}\n",
    "for i,j in enumerate(similarities.tolist()):\n",
    "    similar_dic[i] = j[0]\n",
    "    \n",
    "similar_dic"
   ]
  },
  {
   "cell_type": "code",
   "execution_count": 69,
   "id": "c7270103",
   "metadata": {},
   "outputs": [
    {
     "data": {
      "text/plain": [
       "[(2, 0.1), (0, 0.2886751345948129), (1, 0.5773502691896258)]"
      ]
     },
     "execution_count": 69,
     "metadata": {},
     "output_type": "execute_result"
    }
   ],
   "source": [
    "sorted(similar_dic.items(),key = lambda x:x[1])"
   ]
  },
  {
   "cell_type": "code",
   "execution_count": 72,
   "id": "e81bd45d",
   "metadata": {},
   "outputs": [
    {
     "data": {
      "text/plain": [
       "'python'"
      ]
     },
     "execution_count": 72,
     "metadata": {},
     "output_type": "execute_result"
    }
   ],
   "source": [
    "words_with_same_length[sorted(similar_dic.items(),key = lambda x:x[1])[0][0]]"
   ]
  },
  {
   "cell_type": "code",
   "execution_count": 50,
   "id": "5b6736b4",
   "metadata": {},
   "outputs": [
    {
     "data": {
      "text/plain": [
       "[[0.1], [0.2886751345948129], [0.5773502691896258]]"
      ]
     },
     "execution_count": 50,
     "metadata": {},
     "output_type": "execute_result"
    }
   ],
   "source": [
    "sorted(similarities.tolist())"
   ]
  },
  {
   "cell_type": "code",
   "execution_count": 25,
   "id": "578bb2ec",
   "metadata": {},
   "outputs": [
    {
     "data": {
      "text/plain": [
       "['python', 'coding']"
      ]
     },
     "execution_count": 25,
     "metadata": {},
     "output_type": "execute_result"
    }
   ],
   "source": [
    "words_with_same_length"
   ]
  },
  {
   "cell_type": "code",
   "execution_count": 33,
   "id": "70d7fec8",
   "metadata": {},
   "outputs": [
    {
     "data": {
      "text/plain": [
       "array([[0.57735027],\n",
       "       [0.28867513]])"
      ]
     },
     "execution_count": 33,
     "metadata": {},
     "output_type": "execute_result"
    }
   ],
   "source": [
    "np.sort(similarities,axis = 0)[::-1]"
   ]
  },
  {
   "cell_type": "code",
   "execution_count": 41,
   "id": "5e29898a",
   "metadata": {},
   "outputs": [
    {
     "data": {
      "text/plain": [
       "array([[4],\n",
       "       [0],\n",
       "       [1],\n",
       "       [2],\n",
       "       [3]], dtype=int64)"
      ]
     },
     "execution_count": 41,
     "metadata": {},
     "output_type": "execute_result"
    }
   ],
   "source": [
    "np.argsort(similarities,axis = 0,kind = 'mergesort')"
   ]
  },
  {
   "cell_type": "code",
   "execution_count": null,
   "id": "ad000b47",
   "metadata": {},
   "outputs": [],
   "source": []
  },
  {
   "cell_type": "code",
   "execution_count": null,
   "id": "a71abad4",
   "metadata": {},
   "outputs": [],
   "source": []
  },
  {
   "cell_type": "code",
   "execution_count": null,
   "id": "00d2649e",
   "metadata": {},
   "outputs": [],
   "source": []
  },
  {
   "cell_type": "code",
   "execution_count": null,
   "id": "b029bf5d",
   "metadata": {},
   "outputs": [],
   "source": []
  }
 ],
 "metadata": {
  "kernelspec": {
   "display_name": "Python 3 (ipykernel)",
   "language": "python",
   "name": "python3"
  },
  "language_info": {
   "codemirror_mode": {
    "name": "ipython",
    "version": 3
   },
   "file_extension": ".py",
   "mimetype": "text/x-python",
   "name": "python",
   "nbconvert_exporter": "python",
   "pygments_lexer": "ipython3",
   "version": "3.11.5"
  }
 },
 "nbformat": 4,
 "nbformat_minor": 5
}
